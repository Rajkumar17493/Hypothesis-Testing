{
 "cells": [
  {
   "cell_type": "markdown",
   "id": "8ffb2724",
   "metadata": {},
   "source": [
    "### Import Libraries"
   ]
  },
  {
   "cell_type": "code",
   "execution_count": 1,
   "id": "4d0c72b8",
   "metadata": {},
   "outputs": [],
   "source": [
    "import pandas as pd\n",
    "import numpy as np\n",
    "from scipy import stats"
   ]
  },
  {
   "cell_type": "markdown",
   "id": "d7ab92b4",
   "metadata": {},
   "source": [
    "### Import Data"
   ]
  },
  {
   "cell_type": "code",
   "execution_count": 2,
   "id": "a7e10820",
   "metadata": {},
   "outputs": [
    {
     "data": {
      "text/html": [
       "<div>\n",
       "<style scoped>\n",
       "    .dataframe tbody tr th:only-of-type {\n",
       "        vertical-align: middle;\n",
       "    }\n",
       "\n",
       "    .dataframe tbody tr th {\n",
       "        vertical-align: top;\n",
       "    }\n",
       "\n",
       "    .dataframe thead th {\n",
       "        text-align: right;\n",
       "    }\n",
       "</style>\n",
       "<table border=\"1\" class=\"dataframe\">\n",
       "  <thead>\n",
       "    <tr style=\"text-align: right;\">\n",
       "      <th></th>\n",
       "      <th>Observed Values</th>\n",
       "      <th>East</th>\n",
       "      <th>West</th>\n",
       "      <th>North</th>\n",
       "      <th>South</th>\n",
       "    </tr>\n",
       "  </thead>\n",
       "  <tbody>\n",
       "    <tr>\n",
       "      <th>0</th>\n",
       "      <td>Males</td>\n",
       "      <td>50</td>\n",
       "      <td>142</td>\n",
       "      <td>131</td>\n",
       "      <td>70</td>\n",
       "    </tr>\n",
       "    <tr>\n",
       "      <th>1</th>\n",
       "      <td>Females</td>\n",
       "      <td>435</td>\n",
       "      <td>1523</td>\n",
       "      <td>1356</td>\n",
       "      <td>750</td>\n",
       "    </tr>\n",
       "  </tbody>\n",
       "</table>\n",
       "</div>"
      ],
      "text/plain": [
       "  Observed Values  East  West  North  South\n",
       "0           Males    50   142    131     70\n",
       "1         Females   435  1523   1356    750"
      ]
     },
     "execution_count": 2,
     "metadata": {},
     "output_type": "execute_result"
    }
   ],
   "source": [
    "buyer_ratio=pd.read_csv(\"BuyerRatio.csv\")\n",
    "buyer_ratio.head()"
   ]
  },
  {
   "cell_type": "markdown",
   "id": "20ba9ef6",
   "metadata": {},
   "source": [
    "### EDA"
   ]
  },
  {
   "cell_type": "code",
   "execution_count": 3,
   "id": "136dd446",
   "metadata": {},
   "outputs": [],
   "source": [
    "buyer_ratio=buyer_ratio.drop('Observed Values',axis=1)"
   ]
  },
  {
   "cell_type": "code",
   "execution_count": 4,
   "id": "3f7f875e",
   "metadata": {
    "scrolled": true
   },
   "outputs": [
    {
     "data": {
      "text/plain": [
       "array([[  50,  142,  131,   70],\n",
       "       [ 435, 1523, 1356,  750]], dtype=int64)"
      ]
     },
     "execution_count": 4,
     "metadata": {},
     "output_type": "execute_result"
    }
   ],
   "source": [
    "observed=buyer_ratio.to_numpy()\n",
    "observed"
   ]
  },
  {
   "cell_type": "markdown",
   "id": "8f7d38a5",
   "metadata": {},
   "source": [
    "### Hypothesis Test"
   ]
  },
  {
   "cell_type": "code",
   "execution_count": 5,
   "id": "91e13267",
   "metadata": {},
   "outputs": [],
   "source": [
    "stat,pvalue,dof,expected=stats.chi2_contingency(observed)"
   ]
  },
  {
   "cell_type": "code",
   "execution_count": 6,
   "id": "3c11bbcd",
   "metadata": {},
   "outputs": [
    {
     "name": "stdout",
     "output_type": "stream",
     "text": [
      "1.595945538661058 0.6603094907091882 3 [[  43.  147.  131.   72.]\n",
      " [ 442. 1518. 1356.  748.]]\n"
     ]
    }
   ],
   "source": [
    "print(stat,pvalue,dof,np.round(expected))"
   ]
  },
  {
   "cell_type": "markdown",
   "id": "359b0215",
   "metadata": {},
   "source": [
    "### Inference"
   ]
  },
  {
   "cell_type": "markdown",
   "id": "1dd30a8f",
   "metadata": {},
   "source": [
    "**HYPOTHESIS**\n",
    "\n",
    "Ho : All proportions are equal\n",
    "\n",
    "Ha : Not all proportions are equal\n",
    "\n",
    "Observed = [[50,142,131,70]\n",
    "\n",
    "[435,1523,1356,750]]\n",
    "\n",
    "**SOLUTION**\n",
    "\n",
    "Expected = [[  43.  147.  131.   72.]\n",
    "\n",
    " [ 442. 1518. 1356.  748.]]\n",
    "\n",
    "p value = 0.66, alpha = 0.05\n",
    "\n",
    "p value is greater than alpha. Hence Ho is failed to reject.\n",
    "\n",
    "**CONCLUSION**\n",
    "\n",
    "All proportions are equal."
   ]
  },
  {
   "cell_type": "markdown",
   "id": "acb5faaf",
   "metadata": {},
   "source": [
    "### End !!!"
   ]
  }
 ],
 "metadata": {
  "kernelspec": {
   "display_name": "Python 3 (ipykernel)",
   "language": "python",
   "name": "python3"
  },
  "language_info": {
   "codemirror_mode": {
    "name": "ipython",
    "version": 3
   },
   "file_extension": ".py",
   "mimetype": "text/x-python",
   "name": "python",
   "nbconvert_exporter": "python",
   "pygments_lexer": "ipython3",
   "version": "3.9.7"
  }
 },
 "nbformat": 4,
 "nbformat_minor": 5
}
